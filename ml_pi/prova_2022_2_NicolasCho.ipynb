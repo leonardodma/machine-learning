{
 "cells": [
  {
   "cell_type": "markdown",
   "id": "899246d2",
   "metadata": {},
   "source": [
    "## Machine Learning - Prova\n",
    "\n",
    "**Nome do aluno**: <font color='red'>Nicolas Byung Kwan Cho</font>\n",
    "\n",
    "Esta prova consiste em uma parte conceitual e uma parte prática.\n",
    "\n",
    "Você deve submeter o trabalho via Blackboard. É de sua responsabilidade garantir que o arquivo correto foi enviado.\n",
    "\n",
    "Se você precisou adicionar arquivos extras à essa prova, assegure-se de que você os está enviando também.\n",
    "\n",
    "A prova é individual e com consulta. Faça o seu trabalho de maneira ética!"
   ]
  },
  {
   "cell_type": "markdown",
   "id": "8cc498c4",
   "metadata": {},
   "source": [
    "---\n",
    "## Parte conceitual (4 pts)"
   ]
  },
  {
   "cell_type": "markdown",
   "id": "8e222c4b",
   "metadata": {},
   "source": [
    "Vemos abaixo uma seleção de tópicos em Machine Learning e uma seleção de interlocutores. Escolha 2 tópicos, 2 interlocutores, e a associação 1-para-1 entre tópicos e interlocutores. Explique os tópicos escolhidos para os interlocutores correspondentes.\n",
    "\n",
    "Interlocutores:\n",
    "\n",
    "- O Marcos Lisboa\n",
    "    - Economista, conhece muito bem estatística, interessado pelos problemas economicos do Brasil.\n",
    "- Um aluno de colegial prestes a se formar\n",
    "    - Tem alguma noção de matemática, geometria, estatística, mas muito simples.\n",
    "- Um entrevistador de emprego de uma empresa renomada (e.g. FAANG)\n",
    "    - É um engenheiro experiente, e sabe bem os conceitos todos, mas quer saber se você sabe explicar de modo coerente, enxuto e completo. Sem encher linguiça.\n",
    "- Um professor de Matemática da Variação\n",
    "    - Domina cálculo multivariado, estatística, programação. Quer conhecer mais a fundo o assunto que você vai explicar, e a conexão com a disciplina dele.\n",
    "- Um professor de GDE\n",
    "    - Entende matemática e estatística de colegial e um pouco de Cálculo. Interessado em problemas da sociedade.\n",
    "- Um médico oncologista\n",
    "    - Conhece estatística surpreendemente bem, interessado em problemas de Medicina.\n",
    "\n",
    "    \n",
    "Tópicos:\n",
    "\n",
    "- Árvore de decisão\n",
    "- Machine Learning e sociedade\n",
    "- Regressão linear\n",
    "- Validação cruzada para ajuste de hiperparâmetros\n",
    "- Support vector machines\n",
    "- Curva ROC\n",
    "- Gradient descent\n",
    "- Sub-ajuste (underfitting) e sobreajuste (overfitting)\n",
    "- Precision versus recall\n",
    "- Seleção de variáveis com Lasso\n",
    "\n",
    "Use gráficos, tabelas, formulas, código, o que você quiser para auxiliar na sua explicação. Use quantas células quiser do notebook. Se precisar adicionar um diagrama ilustrativo, pode usar o https://www.draw.io/. Exporte seu desenho para PNG e inclua no notebook com o código-exemplo desta célula:\n",
    "\n",
    "![exemplo](exemplo.png \"Exemplo de diagrama PNG\")\n",
    "\n",
    "Neste caso, <font color='red'>não se esqueça de submeter também seu arquivo de imagem!</font>\n",
    "\n",
    "Rubrica de avaliação por par conceito-interlocutor:\n",
    "\n",
    "\n",
    "| Conceito | Nota | Definição |\n",
    "|----------|------|-----------|\n",
    "| I        | 0.0  | Não fez, ou escreveu coisas sem sentido. |\n",
    "| D        | 0.5  | Usou termos técnicos e matemática não disponível ao interlocutor. Faltam partes fundamentais do conceito. Não construiu uma narrativa de interesse ao interlocutor. |\n",
    "| C        | 1.0  | Construiu uma explicação correta da mecânica do conceito, sem uma intuição de por que funciona. Faltam ideias importantes, mas não essenciais do conceito. Não construiu uma narrativa de interesse ao interlocutor. |\n",
    "| B        | 1.5  | Construiu uma explicação da mecânica e da intuição por trás do modelo. Faltam ideias importantes, mas não essenciais do conceito, ou tem excesso de ideias não tão centrais à explicação (vulgo “encheu linguiça”). |\n",
    "| A        | 2.0  | Construiu uma explicação bem completa e enxuta da mecânica e da intuição por trás do conceito. Trouxe uma narrativa que interesse ao interlocutor. |"
   ]
  },
  {
   "cell_type": "markdown",
   "id": "9cbf8680",
   "metadata": {},
   "source": [
    "### Respostas"
   ]
  },
  {
   "cell_type": "markdown",
   "id": "c5e0a291",
   "metadata": {},
   "source": [
    "---\n",
    "Tópico: <font color=red>Machine Learning e Sociedade</font>\n",
    "\n",
    "Interlocutor: <font color=red>Professor de GDE</font>\n",
    "\n",
    "Resposta:\n",
    "\n",
    "Diferenciar os conceitos de Inteligência Artificial e Machine Learning mostra-se benéfico antes de iniciar a explicação.\n",
    "\n",
    "O grande campo de estudo da Inteligência Artificial busca mimetizar a capicidade cognitiva e comportamento humano por meio de uma máquina. Assim, \n",
    "nesse grande campo pode-se utilizar, ou não, de algoritmos ou instruções diretas para resolver problemas de forma eficaz, assim como um humano resolveria.\n",
    "Um algoritmo capaz de jogar jogo da velha de forma perfeita mapeando todos os possíveis futuros estados dado um momento do jogo, é um exemplo que envolve passar\n",
    "diretamente instruções a máquina e mesmo assim mimetiza o comportamento humano.\n",
    "\n",
    "Já Machine Learning é uma sub-área da Inteligência Artificial que envolve o aprendizado de um sistema por meio de conjunto de dados passados a ele. No caso, não passamos\n",
    "instruções específicas de como resolver o problema, o próprio sistema aplica modelos matemáticos em cima dos dados que passamos e extrai padrões e informações capazes de levar\n",
    "a melhores tomadas de decisões.\n",
    "\n",
    "![ia_ml](ia_ml.png \"Diferença entre IA e ML\")\n",
    "\n",
    "Com isso, a área de Machine Learning contribuiu ativamente nos últimos anos com melhorias em tomadas de decisões nos mais variados campos de estudo, além da automatização\n",
    "de diversas tarefas. Contudo, seu uso levantou questões quanto a ética e responsabilidade por trás dessas decisões.\n",
    "\n",
    "Um dos mais controversos casos de aplicação é na área criminal. Algoritmos de Machine Learning podem ser aplicados de forma a perfilar individuos e prever potenciais\n",
    "atitudes voltadas a criminalidade. O problema, porém, acontece quando os próprios algoritmos são tendenciosos na análise e resultam em falhas que apontam para discriminação\n",
    "racial. O caso de Brisha Borden e Vernon Prarter ganhou repercussão quando o algoritmo COMPAS (Correctional Offender Management Profiling for Alternative Sanctions) classificou\n",
    "Brisha, garota negra de 18 anos, como maior risco de cometer delitos novamente se comparado a Vernon, homem branco de 41 anos. Casos como este apontam o problema de discriminação,\n",
    "muitas vezes resultado de um banco de dados enviesado ou incompleto.\n",
    "\n",
    "\n",
    "![Caso](criminal.png \"Caso de discriminação\")\n",
    "\n",
    "Partindo deste caso, é possível perceber a sensibilidade quando tratamos de decisões que impactam fortemente a vida das pessoas. Desde séculos passados já debatíamos\n",
    "a respeito da ética e como ela deveria influenciar nossas ações. Ao expandir essa ideia ao campo da Inteligência Artificial, nos deparamos com problemáticas novas que \n",
    "surgiram com o avanço dos estudos. Se ainda hoje discutimos a respeito de morais vigentes e o que é certo ou errado sem chegar a nenhum consenso, tomar decisões tão\n",
    "drásticas por meio de aprendizado de máquina nos leva a um impasse se o problema moral ainda não foi resolvido. "
   ]
  },
  {
   "cell_type": "markdown",
   "id": "94a4ca45",
   "metadata": {},
   "source": [
    "---\n",
    "Tópico: <font color=red>Gradient Descent</font>\n",
    "\n",
    "Interlocutor: <font color=red>Professor de Matemática da Variação</font>\n",
    "\n",
    "Resposta:\n",
    "\n",
    "De forma geral, os algoritmos de Machine Learning operam por meio de modelos matemáticos baseados em funções. A ideia do aprendizado de máquina gira em torno de encontrar bons coeficientes destas funções de forma que o modelo seja capaz de fazer predições ao passar novos dados pela função ajustada. Por se tratar de problemas de otimização com multiplas variáveis, é indispensável a teoria do cálculo para analisar modelos de Machine Learning. Um exemplo de modelo utilizado é a Regressão Linear que utiliza a seguinte função matemática:\n",
    "\n",
    "$$\\hat{y} = \\theta_0 + \\theta_1 x_1 + \\theta_2 x_2 + \\cdots + \\theta_n x_n$$\n",
    "\n",
    "Em notação matricial:\n",
    "\n",
    "$$\\hat{y} = \\mathbf{x}^{T} \\mathbf{\\theta}$$\n",
    "\n",
    "Em que $\\theta$ representa a matriz dos coeficientes a serem ajustados e $x$ a matriz dos valores numéricos que caracterizam o dado passado à função, as features.\n",
    "\n",
    "Para verificar se temos bons coeficientes para nosso modelo, utilizamos do erro médio quadrático sobre um conjunto de dados cujos valores de $y$ já conhecemos (conjunto de treinamento). Portanto, a ideia seria ajustar os coeficientes de forma a minimizar esse erro médio. O método do gradiente (Gradient Descent) é utilizado justamente para esse fim. Na regressão linear a função do erro médio quadrático é dada por:\n",
    "\n",
    "$$\n",
    "\\varepsilon^2\\left(\\mathbf{X}_{\\text{train}}, \\mathbf{y}_{\\text{train}}, \\mathbf{\\theta}\\right) =\\frac{1}{m} (\n",
    "    \\mathbf{\\theta}^{T} \\mathbf{X}_{\\text{train}}^{T} \\mathbf{X}_{\\text{train}} \\mathbf{\\theta} \n",
    "  - 2 \\mathbf{\\theta}^{T} \\mathbf{X}_{\\text{train}}^{T} \\mathbf{y}_{\\text{train}}\n",
    "  + \\mathbf{y}_{\\text{train}}^{T} \\mathbf{y}_{\\text{train}})\n",
    "$$\n",
    "\n",
    "Onde $\\mathbf{X}$ é a matriz dos dados, $\\mathbf{y}$ é a matriz da variável de saída (do conjunto de treinamento) e $\\mathbf{\\theta}$ é a matriz dos coeficientes. Como $\\mathbf{X}$ e $\\mathbf{y}$ são constantes na função, o método do gradiente busca minimizar a função de custo alterando os valores da matriz de coeficientes por meio do conceito de vetor gradiente do cálculo vetorial. \n",
    "\n",
    "Como o vetor gradiente indica o sentido e direção de maior incremento para a função de custo dado um determinado vetor de coeficientes, basta subtrair os valores atuais dos coeficientes pelo gradiente que ficaremos mais próximos ao mínimo da função\n",
    "\n",
    "![gradient](gradient.png \"Gradient Descent\")\n",
    "\n",
    "Os novos valores de coeficiente são, portanto, calculados da seguinte forma (para regressão linear):\n",
    "\n",
    "$$\n",
    "\\mathbf{\\theta}_{i + 1} = \\mathbf{\\theta}_{i} - \\eta \\nabla_{\\mathbf{\\theta}} \\varepsilon^2\\left(\\mathbf{X}_{\\text{train}}, \\mathbf{y}_{\\text{train}}, \\mathbf{\\theta}_{i}\\right)\n",
    "$$\n",
    "\n",
    "Em que $\\eta $ é um parâmetro definido arbitrariamente que indica o tamanho do passo a se dar em direção ao mínimo. O método do gradiente trata-se, portanto, de um método iterativo em que esses pequenos passos são repetidos até atingir o mínimo e obtermos os coeficientes desejados do modelo."
   ]
  },
  {
   "cell_type": "markdown",
   "id": "29605f34",
   "metadata": {},
   "source": [
    "---\n",
    "## Parte prática (6 pts)\n",
    "\n"
   ]
  },
  {
   "cell_type": "markdown",
   "id": "fb54a31b",
   "metadata": {},
   "source": [
    "O arquivo `zoo.csv` contém informações sobre animais, conforme descrito abaixo:"
   ]
  },
  {
   "cell_type": "markdown",
   "id": "a6c872a5",
   "metadata": {},
   "source": [
    "1. Title: Zoo database\n",
    "\n",
    "2. Source Information\n",
    "   -- Creator: Richard Forsyth\n",
    "   -- Donor: Richard S. Forsyth \n",
    "             8 Grosvenor Avenue\n",
    "             Mapperley Park\n",
    "             Nottingham NG3 5DX\n",
    "             0602-621676\n",
    "   -- Date: 5/15/1990\n",
    " \n",
    "3. Past Usage:\n",
    "   -- None known other than what is shown in Forsyth's PC/BEAGLE User's Guide.\n",
    "\n",
    "4. Relevant Information:\n",
    "   -- A simple database containing 17 Boolean-valued attributes.  The \"type\"\n",
    "      attribute appears to be the class attribute.  Here is a breakdown of\n",
    "      which animals are in which type: (I find it unusual that there are\n",
    "      2 instances of \"frog\" and one of \"girl\"!)\n",
    "\n",
    "      Class# Set of animals:\n",
    "      ====== ===============================================================\n",
    "           1 (41) aardvark, antelope, bear, boar, buffalo, calf,\n",
    "                  cavy, cheetah, deer, dolphin, elephant,\n",
    "                  fruitbat, giraffe, girl, goat, gorilla, hamster,\n",
    "                  hare, leopard, lion, lynx, mink, mole, mongoose,\n",
    "                  opossum, oryx, platypus, polecat, pony,\n",
    "                  porpoise, puma, pussycat, raccoon, reindeer,\n",
    "                  seal, sealion, squirrel, vampire, vole, wallaby,wolf\n",
    "           2 (20) chicken, crow, dove, duck, flamingo, gull, hawk,\n",
    "                  kiwi, lark, ostrich, parakeet, penguin, pheasant,\n",
    "                  rhea, skimmer, skua, sparrow, swan, vulture, wren\n",
    "           3 (5)  pitviper, seasnake, slowworm, tortoise, tuatara \n",
    "           4 (13) bass, carp, catfish, chub, dogfish, haddock,\n",
    "                  herring, pike, piranha, seahorse, sole, stingray, tuna\n",
    "           5 (4)  frog, frog, newt, toad \n",
    "           6 (8)  flea, gnat, honeybee, housefly, ladybird, moth, termite, wasp\n",
    "           7 (10) clam, crab, crayfish, lobster, octopus,\n",
    "                  scorpion, seawasp, slug, starfish, worm\n",
    "\n",
    "5. Number of Instances: 101\n",
    "\n",
    "6. Number of Attributes: 18 (animal name, 15 Boolean attributes, 2 numerics)\n",
    "\n",
    "7. Attribute Information: (name of attribute and type of value domain)\n",
    "   1. animal name:      Unique for each instance\n",
    "   2. hair\t\tBoolean\n",
    "   3. feathers\t\tBoolean\n",
    "   4. eggs\t\tBoolean\n",
    "   5. milk\t\tBoolean\n",
    "   6. airborne\t\tBoolean\n",
    "   7. aquatic\t\tBoolean\n",
    "   8. predator\t\tBoolean\n",
    "   9. toothed\t\tBoolean\n",
    "  10. backbone\t\tBoolean\n",
    "  11. breathes\t\tBoolean\n",
    "  12. venomous\t\tBoolean\n",
    "  13. fins\t\tBoolean\n",
    "  14. legs\t\tNumeric (set of values: {0,2,4,5,6,8})\n",
    "  15. tail\t\tBoolean\n",
    "  16. domestic\t\tBoolean\n",
    "  17. catsize\t\tBoolean\n",
    "  18. type\t\tNumeric (integer values in range [1,7])\n",
    "\n",
    "8. Missing Attribute Values: Some values are missing!\n",
    "\n",
    "9. Class Distribution: Given above"
   ]
  },
  {
   "cell_type": "markdown",
   "id": "9bdcf34d",
   "metadata": {},
   "source": [
    "Sua tarefa é construir um modelo que prevê o tipo de animal (coluna `type`) baseado nos demais atributos, e com base nesse modelo determinar a ordem de relevancia dos atributos para identificar o tipo de animal.\n",
    "\n",
    "Tendo identificado a ordem de relevancia dos atributos, determine o conjunto minimo de atributos mais relevantes que permita que o modelo tenha um desempenho de $90\\%$ ou mais do desempenho obtido com o conjunto completo de atributos. Por exemplo, se a acurácia do modelo com o conjunto completo de atributos foi de $95\\%$, determine o conjunto mínimo de atributos que atinja $0.9 \\times 0.95 = 0.855 = 85.5\\%$ de acurácia."
   ]
  },
  {
   "cell_type": "markdown",
   "id": "5d9914ac",
   "metadata": {},
   "source": [
    "Rubrica de avaliação:\n",
    "\n",
    "I - Código não roda, ou roda mas é nonsense, e não tem análises que façam sentido.\n",
    "\n",
    "D - A análise não está completa, ou o código está bagunçado, mas pelo menos não é nonsense.\n",
    "\n",
    "C - Conseguiu fazer o modelo preditivo com o preprocessamento adequado\n",
    "\n",
    "B - Conseguiu determinar a importancia das features e determinar o conjunto minimo pedido\n",
    "\n",
    "A - Construiu um preprocessamento sofisticado - explorou a documentação do scikit-learn para encontrar alternativas aos métodos simples descritos em aula. Escolheu features que fazem sentido para o modelo inicial. Obteve conclusões fundamentadas em experimentação."
   ]
  },
  {
   "cell_type": "markdown",
   "id": "43bfb2db",
   "metadata": {},
   "source": [
    "## Bibliotecas e leitura de arquivo"
   ]
  },
  {
   "cell_type": "code",
   "execution_count": 4,
   "id": "4355a807",
   "metadata": {},
   "outputs": [],
   "source": [
    "%matplotlib inline\n",
    "import numpy as np\n",
    "import matplotlib\n",
    "import matplotlib.pyplot as plt\n",
    "import pandas as pd\n",
    "\n",
    "RANDOM_SEED = 42\n",
    "\n",
    "np.random.seed(RANDOM_SEED)"
   ]
  },
  {
   "cell_type": "code",
   "execution_count": 5,
   "id": "04c12d8c",
   "metadata": {},
   "outputs": [],
   "source": [
    "ZOO_FILE = \"zoo.csv\"\n",
    "\n",
    "zoo = pd.read_csv(ZOO_FILE)"
   ]
  },
  {
   "cell_type": "markdown",
   "id": "bc69d46c",
   "metadata": {},
   "source": [
    "## Análise inicial do dataset"
   ]
  },
  {
   "cell_type": "code",
   "execution_count": 6,
   "id": "6036855c",
   "metadata": {},
   "outputs": [
    {
     "data": {
      "text/html": [
       "<div>\n",
       "<style scoped>\n",
       "    .dataframe tbody tr th:only-of-type {\n",
       "        vertical-align: middle;\n",
       "    }\n",
       "\n",
       "    .dataframe tbody tr th {\n",
       "        vertical-align: top;\n",
       "    }\n",
       "\n",
       "    .dataframe thead th {\n",
       "        text-align: right;\n",
       "    }\n",
       "</style>\n",
       "<table border=\"1\" class=\"dataframe\">\n",
       "  <thead>\n",
       "    <tr style=\"text-align: right;\">\n",
       "      <th></th>\n",
       "      <th>animal</th>\n",
       "      <th>hair</th>\n",
       "      <th>feathers</th>\n",
       "      <th>eggs</th>\n",
       "      <th>milk</th>\n",
       "      <th>airborne</th>\n",
       "      <th>aquatic</th>\n",
       "      <th>predator</th>\n",
       "      <th>toothed</th>\n",
       "      <th>backbone</th>\n",
       "      <th>breathes</th>\n",
       "      <th>venomous</th>\n",
       "      <th>fins</th>\n",
       "      <th>legs</th>\n",
       "      <th>tail</th>\n",
       "      <th>domestic</th>\n",
       "      <th>catsize</th>\n",
       "      <th>type</th>\n",
       "    </tr>\n",
       "  </thead>\n",
       "  <tbody>\n",
       "    <tr>\n",
       "      <th>0</th>\n",
       "      <td>aardvark</td>\n",
       "      <td>1.0</td>\n",
       "      <td>0.0</td>\n",
       "      <td>0.0</td>\n",
       "      <td>1.0</td>\n",
       "      <td>0.0</td>\n",
       "      <td>0.0</td>\n",
       "      <td>NaN</td>\n",
       "      <td>1.0</td>\n",
       "      <td>1.0</td>\n",
       "      <td>1.0</td>\n",
       "      <td>0.0</td>\n",
       "      <td>0.0</td>\n",
       "      <td>4</td>\n",
       "      <td>NaN</td>\n",
       "      <td>0.0</td>\n",
       "      <td>1.0</td>\n",
       "      <td>1</td>\n",
       "    </tr>\n",
       "    <tr>\n",
       "      <th>1</th>\n",
       "      <td>antelope</td>\n",
       "      <td>1.0</td>\n",
       "      <td>0.0</td>\n",
       "      <td>0.0</td>\n",
       "      <td>1.0</td>\n",
       "      <td>0.0</td>\n",
       "      <td>NaN</td>\n",
       "      <td>0.0</td>\n",
       "      <td>1.0</td>\n",
       "      <td>NaN</td>\n",
       "      <td>1.0</td>\n",
       "      <td>0.0</td>\n",
       "      <td>0.0</td>\n",
       "      <td>4</td>\n",
       "      <td>1.0</td>\n",
       "      <td>0.0</td>\n",
       "      <td>1.0</td>\n",
       "      <td>1</td>\n",
       "    </tr>\n",
       "    <tr>\n",
       "      <th>2</th>\n",
       "      <td>bass</td>\n",
       "      <td>0.0</td>\n",
       "      <td>0.0</td>\n",
       "      <td>1.0</td>\n",
       "      <td>0.0</td>\n",
       "      <td>0.0</td>\n",
       "      <td>1.0</td>\n",
       "      <td>1.0</td>\n",
       "      <td>1.0</td>\n",
       "      <td>1.0</td>\n",
       "      <td>0.0</td>\n",
       "      <td>0.0</td>\n",
       "      <td>1.0</td>\n",
       "      <td>0</td>\n",
       "      <td>1.0</td>\n",
       "      <td>0.0</td>\n",
       "      <td>0.0</td>\n",
       "      <td>4</td>\n",
       "    </tr>\n",
       "    <tr>\n",
       "      <th>3</th>\n",
       "      <td>bear</td>\n",
       "      <td>NaN</td>\n",
       "      <td>0.0</td>\n",
       "      <td>NaN</td>\n",
       "      <td>1.0</td>\n",
       "      <td>0.0</td>\n",
       "      <td>0.0</td>\n",
       "      <td>1.0</td>\n",
       "      <td>1.0</td>\n",
       "      <td>1.0</td>\n",
       "      <td>1.0</td>\n",
       "      <td>0.0</td>\n",
       "      <td>0.0</td>\n",
       "      <td>4</td>\n",
       "      <td>0.0</td>\n",
       "      <td>0.0</td>\n",
       "      <td>1.0</td>\n",
       "      <td>1</td>\n",
       "    </tr>\n",
       "    <tr>\n",
       "      <th>4</th>\n",
       "      <td>boar</td>\n",
       "      <td>1.0</td>\n",
       "      <td>NaN</td>\n",
       "      <td>0.0</td>\n",
       "      <td>1.0</td>\n",
       "      <td>0.0</td>\n",
       "      <td>0.0</td>\n",
       "      <td>1.0</td>\n",
       "      <td>NaN</td>\n",
       "      <td>NaN</td>\n",
       "      <td>1.0</td>\n",
       "      <td>0.0</td>\n",
       "      <td>0.0</td>\n",
       "      <td>4</td>\n",
       "      <td>1.0</td>\n",
       "      <td>0.0</td>\n",
       "      <td>1.0</td>\n",
       "      <td>1</td>\n",
       "    </tr>\n",
       "  </tbody>\n",
       "</table>\n",
       "</div>"
      ],
      "text/plain": [
       "     animal  hair  feathers  eggs  milk  airborne  aquatic  predator  toothed  \\\n",
       "0  aardvark   1.0       0.0   0.0   1.0       0.0      0.0       NaN      1.0   \n",
       "1  antelope   1.0       0.0   0.0   1.0       0.0      NaN       0.0      1.0   \n",
       "2      bass   0.0       0.0   1.0   0.0       0.0      1.0       1.0      1.0   \n",
       "3      bear   NaN       0.0   NaN   1.0       0.0      0.0       1.0      1.0   \n",
       "4      boar   1.0       NaN   0.0   1.0       0.0      0.0       1.0      NaN   \n",
       "\n",
       "   backbone  breathes  venomous  fins  legs  tail  domestic  catsize  type  \n",
       "0       1.0       1.0       0.0   0.0     4   NaN       0.0      1.0     1  \n",
       "1       NaN       1.0       0.0   0.0     4   1.0       0.0      1.0     1  \n",
       "2       1.0       0.0       0.0   1.0     0   1.0       0.0      0.0     4  \n",
       "3       1.0       1.0       0.0   0.0     4   0.0       0.0      1.0     1  \n",
       "4       NaN       1.0       0.0   0.0     4   1.0       0.0      1.0     1  "
      ]
     },
     "execution_count": 6,
     "metadata": {},
     "output_type": "execute_result"
    }
   ],
   "source": [
    "zoo.head()"
   ]
  },
  {
   "cell_type": "markdown",
   "id": "a1fde3b9",
   "metadata": {},
   "source": [
    "Por se tratar de um dataset simples, com muitas variáveis booleanas e duas numéricas (discretas além disso), não se espera anomalias no conjunto, devemos apenas tratar das informações faltantes."
   ]
  },
  {
   "cell_type": "code",
   "execution_count": 7,
   "id": "3c931320",
   "metadata": {},
   "outputs": [
    {
     "data": {
      "text/html": [
       "<div>\n",
       "<style scoped>\n",
       "    .dataframe tbody tr th:only-of-type {\n",
       "        vertical-align: middle;\n",
       "    }\n",
       "\n",
       "    .dataframe tbody tr th {\n",
       "        vertical-align: top;\n",
       "    }\n",
       "\n",
       "    .dataframe thead th {\n",
       "        text-align: right;\n",
       "    }\n",
       "</style>\n",
       "<table border=\"1\" class=\"dataframe\">\n",
       "  <thead>\n",
       "    <tr style=\"text-align: right;\">\n",
       "      <th></th>\n",
       "      <th>animal</th>\n",
       "      <th>hair</th>\n",
       "      <th>feathers</th>\n",
       "      <th>eggs</th>\n",
       "      <th>milk</th>\n",
       "      <th>airborne</th>\n",
       "      <th>aquatic</th>\n",
       "      <th>predator</th>\n",
       "      <th>toothed</th>\n",
       "      <th>backbone</th>\n",
       "      <th>breathes</th>\n",
       "      <th>venomous</th>\n",
       "      <th>fins</th>\n",
       "      <th>legs</th>\n",
       "      <th>tail</th>\n",
       "      <th>domestic</th>\n",
       "      <th>catsize</th>\n",
       "      <th>type</th>\n",
       "    </tr>\n",
       "  </thead>\n",
       "  <tbody>\n",
       "    <tr>\n",
       "      <th>0</th>\n",
       "      <td>aardvark</td>\n",
       "      <td>1.0</td>\n",
       "      <td>0.0</td>\n",
       "      <td>0.0</td>\n",
       "      <td>1.0</td>\n",
       "      <td>0.0</td>\n",
       "      <td>0.0</td>\n",
       "      <td>NaN</td>\n",
       "      <td>1.0</td>\n",
       "      <td>1.0</td>\n",
       "      <td>1.0</td>\n",
       "      <td>0.0</td>\n",
       "      <td>0.0</td>\n",
       "      <td>4</td>\n",
       "      <td>NaN</td>\n",
       "      <td>0.0</td>\n",
       "      <td>1.0</td>\n",
       "      <td>1</td>\n",
       "    </tr>\n",
       "    <tr>\n",
       "      <th>1</th>\n",
       "      <td>antelope</td>\n",
       "      <td>1.0</td>\n",
       "      <td>0.0</td>\n",
       "      <td>0.0</td>\n",
       "      <td>1.0</td>\n",
       "      <td>0.0</td>\n",
       "      <td>NaN</td>\n",
       "      <td>0.0</td>\n",
       "      <td>1.0</td>\n",
       "      <td>NaN</td>\n",
       "      <td>1.0</td>\n",
       "      <td>0.0</td>\n",
       "      <td>0.0</td>\n",
       "      <td>4</td>\n",
       "      <td>1.0</td>\n",
       "      <td>0.0</td>\n",
       "      <td>1.0</td>\n",
       "      <td>1</td>\n",
       "    </tr>\n",
       "    <tr>\n",
       "      <th>3</th>\n",
       "      <td>bear</td>\n",
       "      <td>NaN</td>\n",
       "      <td>0.0</td>\n",
       "      <td>NaN</td>\n",
       "      <td>1.0</td>\n",
       "      <td>0.0</td>\n",
       "      <td>0.0</td>\n",
       "      <td>1.0</td>\n",
       "      <td>1.0</td>\n",
       "      <td>1.0</td>\n",
       "      <td>1.0</td>\n",
       "      <td>0.0</td>\n",
       "      <td>0.0</td>\n",
       "      <td>4</td>\n",
       "      <td>0.0</td>\n",
       "      <td>0.0</td>\n",
       "      <td>1.0</td>\n",
       "      <td>1</td>\n",
       "    </tr>\n",
       "    <tr>\n",
       "      <th>4</th>\n",
       "      <td>boar</td>\n",
       "      <td>1.0</td>\n",
       "      <td>NaN</td>\n",
       "      <td>0.0</td>\n",
       "      <td>1.0</td>\n",
       "      <td>0.0</td>\n",
       "      <td>0.0</td>\n",
       "      <td>1.0</td>\n",
       "      <td>NaN</td>\n",
       "      <td>NaN</td>\n",
       "      <td>1.0</td>\n",
       "      <td>0.0</td>\n",
       "      <td>0.0</td>\n",
       "      <td>4</td>\n",
       "      <td>1.0</td>\n",
       "      <td>0.0</td>\n",
       "      <td>1.0</td>\n",
       "      <td>1</td>\n",
       "    </tr>\n",
       "    <tr>\n",
       "      <th>5</th>\n",
       "      <td>buffalo</td>\n",
       "      <td>1.0</td>\n",
       "      <td>0.0</td>\n",
       "      <td>0.0</td>\n",
       "      <td>NaN</td>\n",
       "      <td>0.0</td>\n",
       "      <td>0.0</td>\n",
       "      <td>0.0</td>\n",
       "      <td>1.0</td>\n",
       "      <td>1.0</td>\n",
       "      <td>NaN</td>\n",
       "      <td>0.0</td>\n",
       "      <td>0.0</td>\n",
       "      <td>4</td>\n",
       "      <td>NaN</td>\n",
       "      <td>0.0</td>\n",
       "      <td>1.0</td>\n",
       "      <td>1</td>\n",
       "    </tr>\n",
       "    <tr>\n",
       "      <th>7</th>\n",
       "      <td>carp</td>\n",
       "      <td>0.0</td>\n",
       "      <td>0.0</td>\n",
       "      <td>1.0</td>\n",
       "      <td>0.0</td>\n",
       "      <td>0.0</td>\n",
       "      <td>1.0</td>\n",
       "      <td>0.0</td>\n",
       "      <td>NaN</td>\n",
       "      <td>1.0</td>\n",
       "      <td>0.0</td>\n",
       "      <td>0.0</td>\n",
       "      <td>1.0</td>\n",
       "      <td>0</td>\n",
       "      <td>NaN</td>\n",
       "      <td>1.0</td>\n",
       "      <td>0.0</td>\n",
       "      <td>4</td>\n",
       "    </tr>\n",
       "    <tr>\n",
       "      <th>9</th>\n",
       "      <td>cavy</td>\n",
       "      <td>1.0</td>\n",
       "      <td>NaN</td>\n",
       "      <td>0.0</td>\n",
       "      <td>NaN</td>\n",
       "      <td>NaN</td>\n",
       "      <td>0.0</td>\n",
       "      <td>NaN</td>\n",
       "      <td>1.0</td>\n",
       "      <td>NaN</td>\n",
       "      <td>1.0</td>\n",
       "      <td>0.0</td>\n",
       "      <td>0.0</td>\n",
       "      <td>4</td>\n",
       "      <td>0.0</td>\n",
       "      <td>1.0</td>\n",
       "      <td>0.0</td>\n",
       "      <td>1</td>\n",
       "    </tr>\n",
       "    <tr>\n",
       "      <th>12</th>\n",
       "      <td>chub</td>\n",
       "      <td>0.0</td>\n",
       "      <td>0.0</td>\n",
       "      <td>1.0</td>\n",
       "      <td>NaN</td>\n",
       "      <td>0.0</td>\n",
       "      <td>1.0</td>\n",
       "      <td>1.0</td>\n",
       "      <td>1.0</td>\n",
       "      <td>NaN</td>\n",
       "      <td>0.0</td>\n",
       "      <td>0.0</td>\n",
       "      <td>1.0</td>\n",
       "      <td>0</td>\n",
       "      <td>1.0</td>\n",
       "      <td>0.0</td>\n",
       "      <td>0.0</td>\n",
       "      <td>4</td>\n",
       "    </tr>\n",
       "    <tr>\n",
       "      <th>13</th>\n",
       "      <td>clam</td>\n",
       "      <td>0.0</td>\n",
       "      <td>0.0</td>\n",
       "      <td>NaN</td>\n",
       "      <td>0.0</td>\n",
       "      <td>0.0</td>\n",
       "      <td>0.0</td>\n",
       "      <td>1.0</td>\n",
       "      <td>0.0</td>\n",
       "      <td>0.0</td>\n",
       "      <td>NaN</td>\n",
       "      <td>0.0</td>\n",
       "      <td>0.0</td>\n",
       "      <td>0</td>\n",
       "      <td>NaN</td>\n",
       "      <td>NaN</td>\n",
       "      <td>0.0</td>\n",
       "      <td>7</td>\n",
       "    </tr>\n",
       "    <tr>\n",
       "      <th>14</th>\n",
       "      <td>crab</td>\n",
       "      <td>0.0</td>\n",
       "      <td>0.0</td>\n",
       "      <td>1.0</td>\n",
       "      <td>0.0</td>\n",
       "      <td>0.0</td>\n",
       "      <td>1.0</td>\n",
       "      <td>1.0</td>\n",
       "      <td>NaN</td>\n",
       "      <td>0.0</td>\n",
       "      <td>0.0</td>\n",
       "      <td>0.0</td>\n",
       "      <td>0.0</td>\n",
       "      <td>4</td>\n",
       "      <td>0.0</td>\n",
       "      <td>0.0</td>\n",
       "      <td>0.0</td>\n",
       "      <td>7</td>\n",
       "    </tr>\n",
       "  </tbody>\n",
       "</table>\n",
       "</div>"
      ],
      "text/plain": [
       "      animal  hair  feathers  eggs  milk  airborne  aquatic  predator  \\\n",
       "0   aardvark   1.0       0.0   0.0   1.0       0.0      0.0       NaN   \n",
       "1   antelope   1.0       0.0   0.0   1.0       0.0      NaN       0.0   \n",
       "3       bear   NaN       0.0   NaN   1.0       0.0      0.0       1.0   \n",
       "4       boar   1.0       NaN   0.0   1.0       0.0      0.0       1.0   \n",
       "5    buffalo   1.0       0.0   0.0   NaN       0.0      0.0       0.0   \n",
       "7       carp   0.0       0.0   1.0   0.0       0.0      1.0       0.0   \n",
       "9       cavy   1.0       NaN   0.0   NaN       NaN      0.0       NaN   \n",
       "12      chub   0.0       0.0   1.0   NaN       0.0      1.0       1.0   \n",
       "13      clam   0.0       0.0   NaN   0.0       0.0      0.0       1.0   \n",
       "14      crab   0.0       0.0   1.0   0.0       0.0      1.0       1.0   \n",
       "\n",
       "    toothed  backbone  breathes  venomous  fins  legs  tail  domestic  \\\n",
       "0       1.0       1.0       1.0       0.0   0.0     4   NaN       0.0   \n",
       "1       1.0       NaN       1.0       0.0   0.0     4   1.0       0.0   \n",
       "3       1.0       1.0       1.0       0.0   0.0     4   0.0       0.0   \n",
       "4       NaN       NaN       1.0       0.0   0.0     4   1.0       0.0   \n",
       "5       1.0       1.0       NaN       0.0   0.0     4   NaN       0.0   \n",
       "7       NaN       1.0       0.0       0.0   1.0     0   NaN       1.0   \n",
       "9       1.0       NaN       1.0       0.0   0.0     4   0.0       1.0   \n",
       "12      1.0       NaN       0.0       0.0   1.0     0   1.0       0.0   \n",
       "13      0.0       0.0       NaN       0.0   0.0     0   NaN       NaN   \n",
       "14      NaN       0.0       0.0       0.0   0.0     4   0.0       0.0   \n",
       "\n",
       "    catsize  type  \n",
       "0       1.0     1  \n",
       "1       1.0     1  \n",
       "3       1.0     1  \n",
       "4       1.0     1  \n",
       "5       1.0     1  \n",
       "7       0.0     4  \n",
       "9       0.0     1  \n",
       "12      0.0     4  \n",
       "13      0.0     7  \n",
       "14      0.0     7  "
      ]
     },
     "execution_count": 7,
     "metadata": {},
     "output_type": "execute_result"
    }
   ],
   "source": [
    "zoo_incomplete_rows = zoo[zoo.isnull().any(axis=1)].head(10)\n",
    "zoo_incomplete_rows"
   ]
  },
  {
   "cell_type": "code",
   "execution_count": 8,
   "id": "913c1a11",
   "metadata": {},
   "outputs": [
    {
     "data": {
      "text/plain": [
       "80"
      ]
     },
     "execution_count": 8,
     "metadata": {},
     "output_type": "execute_result"
    }
   ],
   "source": [
    "# Total de linhas com valores faltantes\n",
    "zoo.isnull().any(axis=1).sum()"
   ]
  },
  {
   "cell_type": "code",
   "execution_count": 9,
   "id": "ea3c4792",
   "metadata": {},
   "outputs": [
    {
     "data": {
      "text/plain": [
       "0"
      ]
     },
     "execution_count": 9,
     "metadata": {},
     "output_type": "execute_result"
    }
   ],
   "source": [
    "zoo['type'].isnull().sum()"
   ]
  },
  {
   "cell_type": "markdown",
   "id": "90b0fa86",
   "metadata": {},
   "source": [
    "## Preprocessamento"
   ]
  },
  {
   "cell_type": "markdown",
   "id": "d4f20672",
   "metadata": {},
   "source": [
    "Vamos descartar a coluna de nomes dos animais, pois não vamos utiliza-la para classificação."
   ]
  },
  {
   "cell_type": "code",
   "execution_count": 10,
   "id": "96fd2172",
   "metadata": {},
   "outputs": [],
   "source": [
    "zoo_nameless = zoo.drop('animal', axis=1)"
   ]
  },
  {
   "cell_type": "markdown",
   "id": "91b84cf6",
   "metadata": {},
   "source": [
    "Descartar todas as linhas ou colunas com valores faltantes não é uma boa ideia, pois perderíamos muita informação. Vamos preencher os valores faltantes com o valor mais frequente da coluna."
   ]
  },
  {
   "cell_type": "code",
   "execution_count": 11,
   "id": "c4e464b4",
   "metadata": {},
   "outputs": [
    {
     "name": "stdout",
     "output_type": "stream",
     "text": [
      "<class 'numpy.ndarray'>\n"
     ]
    }
   ],
   "source": [
    "from sklearn.impute import SimpleImputer\n",
    "\n",
    "imputer = SimpleImputer(strategy='most_frequent')\n",
    "imputer.fit(zoo_nameless)\n",
    "\n",
    "temp = imputer.transform(zoo_nameless)\n",
    "print(type(temp))"
   ]
  },
  {
   "cell_type": "code",
   "execution_count": 12,
   "id": "004bcdb8",
   "metadata": {},
   "outputs": [
    {
     "name": "stdout",
     "output_type": "stream",
     "text": [
      "<class 'pandas.core.frame.DataFrame'>\n"
     ]
    }
   ],
   "source": [
    "zoo_filled = pd.DataFrame(temp, columns=zoo_nameless.columns)\n",
    "print(type(zoo_filled))"
   ]
  },
  {
   "cell_type": "code",
   "execution_count": 13,
   "id": "3430b898",
   "metadata": {},
   "outputs": [
    {
     "data": {
      "text/html": [
       "<div>\n",
       "<style scoped>\n",
       "    .dataframe tbody tr th:only-of-type {\n",
       "        vertical-align: middle;\n",
       "    }\n",
       "\n",
       "    .dataframe tbody tr th {\n",
       "        vertical-align: top;\n",
       "    }\n",
       "\n",
       "    .dataframe thead th {\n",
       "        text-align: right;\n",
       "    }\n",
       "</style>\n",
       "<table border=\"1\" class=\"dataframe\">\n",
       "  <thead>\n",
       "    <tr style=\"text-align: right;\">\n",
       "      <th></th>\n",
       "      <th>hair</th>\n",
       "      <th>feathers</th>\n",
       "      <th>eggs</th>\n",
       "      <th>milk</th>\n",
       "      <th>airborne</th>\n",
       "      <th>aquatic</th>\n",
       "      <th>predator</th>\n",
       "      <th>toothed</th>\n",
       "      <th>backbone</th>\n",
       "      <th>breathes</th>\n",
       "      <th>venomous</th>\n",
       "      <th>fins</th>\n",
       "      <th>legs</th>\n",
       "      <th>tail</th>\n",
       "      <th>domestic</th>\n",
       "      <th>catsize</th>\n",
       "      <th>type</th>\n",
       "    </tr>\n",
       "  </thead>\n",
       "  <tbody>\n",
       "  </tbody>\n",
       "</table>\n",
       "</div>"
      ],
      "text/plain": [
       "Empty DataFrame\n",
       "Columns: [hair, feathers, eggs, milk, airborne, aquatic, predator, toothed, backbone, breathes, venomous, fins, legs, tail, domestic, catsize, type]\n",
       "Index: []"
      ]
     },
     "execution_count": 13,
     "metadata": {},
     "output_type": "execute_result"
    }
   ],
   "source": [
    "zoo_filled[zoo_filled.isnull().any(axis=1)].head()"
   ]
  },
  {
   "cell_type": "markdown",
   "id": "677455e6",
   "metadata": {},
   "source": [
    "## Separando em dados de treino e teste"
   ]
  },
  {
   "cell_type": "code",
   "execution_count": 14,
   "id": "081683c4",
   "metadata": {},
   "outputs": [],
   "source": [
    "from sklearn.model_selection import train_test_split\n",
    "\n",
    "train_set, test_set = train_test_split(\n",
    "    zoo_filled,\n",
    "    test_size=0.2,\n",
    "    random_state=RANDOM_SEED,\n",
    ")"
   ]
  },
  {
   "cell_type": "code",
   "execution_count": 15,
   "id": "6bf8980b",
   "metadata": {},
   "outputs": [],
   "source": [
    "X_train = train_set.drop(columns=['type']).copy()\n",
    "y_train = train_set['type'].copy()\n",
    "\n",
    "X_test = test_set.drop(columns=['type']).copy()\n",
    "y_test = test_set['type'].copy()"
   ]
  },
  {
   "cell_type": "markdown",
   "id": "c718af55",
   "metadata": {},
   "source": [
    "## Classificador multiclasse"
   ]
  },
  {
   "cell_type": "markdown",
   "id": "3dc32666",
   "metadata": {},
   "source": [
    "Como queremos determinar o tipo do animal e temos 7 categorias diferentes, utilizaremos um classificador multiclasse. Vamos utilizar um algoritmo random forest para realizar a classificação"
   ]
  },
  {
   "cell_type": "markdown",
   "id": "6bb1183f",
   "metadata": {},
   "source": [
    "Por ser um dataset pequeno (101 instâncias de dados), utilizaremos o Leave One Out cross validator para verificar a performance do modelo."
   ]
  },
  {
   "cell_type": "code",
   "execution_count": 16,
   "id": "e8b24a28",
   "metadata": {},
   "outputs": [
    {
     "data": {
      "text/html": [
       "<style>#sk-container-id-1 {color: black;background-color: white;}#sk-container-id-1 pre{padding: 0;}#sk-container-id-1 div.sk-toggleable {background-color: white;}#sk-container-id-1 label.sk-toggleable__label {cursor: pointer;display: block;width: 100%;margin-bottom: 0;padding: 0.3em;box-sizing: border-box;text-align: center;}#sk-container-id-1 label.sk-toggleable__label-arrow:before {content: \"▸\";float: left;margin-right: 0.25em;color: #696969;}#sk-container-id-1 label.sk-toggleable__label-arrow:hover:before {color: black;}#sk-container-id-1 div.sk-estimator:hover label.sk-toggleable__label-arrow:before {color: black;}#sk-container-id-1 div.sk-toggleable__content {max-height: 0;max-width: 0;overflow: hidden;text-align: left;background-color: #f0f8ff;}#sk-container-id-1 div.sk-toggleable__content pre {margin: 0.2em;color: black;border-radius: 0.25em;background-color: #f0f8ff;}#sk-container-id-1 input.sk-toggleable__control:checked~div.sk-toggleable__content {max-height: 200px;max-width: 100%;overflow: auto;}#sk-container-id-1 input.sk-toggleable__control:checked~label.sk-toggleable__label-arrow:before {content: \"▾\";}#sk-container-id-1 div.sk-estimator input.sk-toggleable__control:checked~label.sk-toggleable__label {background-color: #d4ebff;}#sk-container-id-1 div.sk-label input.sk-toggleable__control:checked~label.sk-toggleable__label {background-color: #d4ebff;}#sk-container-id-1 input.sk-hidden--visually {border: 0;clip: rect(1px 1px 1px 1px);clip: rect(1px, 1px, 1px, 1px);height: 1px;margin: -1px;overflow: hidden;padding: 0;position: absolute;width: 1px;}#sk-container-id-1 div.sk-estimator {font-family: monospace;background-color: #f0f8ff;border: 1px dotted black;border-radius: 0.25em;box-sizing: border-box;margin-bottom: 0.5em;}#sk-container-id-1 div.sk-estimator:hover {background-color: #d4ebff;}#sk-container-id-1 div.sk-parallel-item::after {content: \"\";width: 100%;border-bottom: 1px solid gray;flex-grow: 1;}#sk-container-id-1 div.sk-label:hover label.sk-toggleable__label {background-color: #d4ebff;}#sk-container-id-1 div.sk-serial::before {content: \"\";position: absolute;border-left: 1px solid gray;box-sizing: border-box;top: 0;bottom: 0;left: 50%;z-index: 0;}#sk-container-id-1 div.sk-serial {display: flex;flex-direction: column;align-items: center;background-color: white;padding-right: 0.2em;padding-left: 0.2em;position: relative;}#sk-container-id-1 div.sk-item {position: relative;z-index: 1;}#sk-container-id-1 div.sk-parallel {display: flex;align-items: stretch;justify-content: center;background-color: white;position: relative;}#sk-container-id-1 div.sk-item::before, #sk-container-id-1 div.sk-parallel-item::before {content: \"\";position: absolute;border-left: 1px solid gray;box-sizing: border-box;top: 0;bottom: 0;left: 50%;z-index: -1;}#sk-container-id-1 div.sk-parallel-item {display: flex;flex-direction: column;z-index: 1;position: relative;background-color: white;}#sk-container-id-1 div.sk-parallel-item:first-child::after {align-self: flex-end;width: 50%;}#sk-container-id-1 div.sk-parallel-item:last-child::after {align-self: flex-start;width: 50%;}#sk-container-id-1 div.sk-parallel-item:only-child::after {width: 0;}#sk-container-id-1 div.sk-dashed-wrapped {border: 1px dashed gray;margin: 0 0.4em 0.5em 0.4em;box-sizing: border-box;padding-bottom: 0.4em;background-color: white;}#sk-container-id-1 div.sk-label label {font-family: monospace;font-weight: bold;display: inline-block;line-height: 1.2em;}#sk-container-id-1 div.sk-label-container {text-align: center;}#sk-container-id-1 div.sk-container {/* jupyter's `normalize.less` sets `[hidden] { display: none; }` but bootstrap.min.css set `[hidden] { display: none !important; }` so we also need the `!important` here to be able to override the default hidden behavior on the sphinx rendered scikit-learn.org. See: https://github.com/scikit-learn/scikit-learn/issues/21755 */display: inline-block !important;position: relative;}#sk-container-id-1 div.sk-text-repr-fallback {display: none;}</style><div id=\"sk-container-id-1\" class=\"sk-top-container\"><div class=\"sk-text-repr-fallback\"><pre>RandomForestClassifier(random_state=42)</pre><b>In a Jupyter environment, please rerun this cell to show the HTML representation or trust the notebook. <br />On GitHub, the HTML representation is unable to render, please try loading this page with nbviewer.org.</b></div><div class=\"sk-container\" hidden><div class=\"sk-item\"><div class=\"sk-estimator sk-toggleable\"><input class=\"sk-toggleable__control sk-hidden--visually\" id=\"sk-estimator-id-1\" type=\"checkbox\" checked><label for=\"sk-estimator-id-1\" class=\"sk-toggleable__label sk-toggleable__label-arrow\">RandomForestClassifier</label><div class=\"sk-toggleable__content\"><pre>RandomForestClassifier(random_state=42)</pre></div></div></div></div></div>"
      ],
      "text/plain": [
       "RandomForestClassifier(random_state=42)"
      ]
     },
     "execution_count": 16,
     "metadata": {},
     "output_type": "execute_result"
    }
   ],
   "source": [
    "from sklearn.ensemble import RandomForestClassifier\n",
    "\n",
    "forest_clf = RandomForestClassifier(n_estimators=100, random_state=42)\n",
    "forest_clf.fit(X_train, y_train)  "
   ]
  },
  {
   "cell_type": "code",
   "execution_count": 17,
   "id": "3b13a056",
   "metadata": {},
   "outputs": [],
   "source": [
    "from sklearn.model_selection import cross_val_score\n",
    "from sklearn.model_selection import LeaveOneOut\n",
    "\n",
    "cv = LeaveOneOut()\n",
    "\n",
    "scores = cross_val_score(\n",
    "    forest_clf,\n",
    "    X_train,\n",
    "    y_train,\n",
    "    cv=cv,\n",
    "    scoring='accuracy',\n",
    "    n_jobs=-1,\n",
    ")"
   ]
  },
  {
   "cell_type": "code",
   "execution_count": 18,
   "id": "3a95bc0b",
   "metadata": {},
   "outputs": [
    {
     "name": "stdout",
     "output_type": "stream",
     "text": [
      "Acurácia: 0.950 \n"
     ]
    }
   ],
   "source": [
    "from numpy import mean, std\n",
    "acc = mean(scores)                  #Utilizaremos o valor para determinar o conjunto mínimo\n",
    "print('Acurácia: %.3f ' % (acc))"
   ]
  },
  {
   "cell_type": "markdown",
   "id": "fab10296",
   "metadata": {},
   "source": [
    "## Determinando atributos mais relevantes"
   ]
  },
  {
   "cell_type": "markdown",
   "id": "ad9b818a",
   "metadata": {},
   "source": [
    "Determinado o modelo e acurácia, vamos reduzir o número de atributos para considerar apenas aqueles mais relevantes para a variável target."
   ]
  },
  {
   "cell_type": "code",
   "execution_count": 19,
   "id": "75ca38de",
   "metadata": {},
   "outputs": [],
   "source": [
    "feature_names = list(X_train)"
   ]
  },
  {
   "cell_type": "code",
   "execution_count": 20,
   "id": "d775a4d4",
   "metadata": {},
   "outputs": [],
   "source": [
    "importances = forest_clf.feature_importances_"
   ]
  },
  {
   "cell_type": "code",
   "execution_count": 21,
   "id": "fc6a6f89",
   "metadata": {},
   "outputs": [
    {
     "data": {
      "text/plain": [
       "[(0.1291597536731423, 'feathers'),\n",
       " (0.11711130342004124, 'legs'),\n",
       " (0.11592083797603502, 'hair'),\n",
       " (0.11132085443423144, 'eggs'),\n",
       " (0.08609819763756786, 'milk'),\n",
       " (0.08265120433099259, 'backbone'),\n",
       " (0.08026316857558248, 'fins'),\n",
       " (0.0562938383114093, 'toothed'),\n",
       " (0.05373044359767582, 'aquatic'),\n",
       " (0.048477977835185454, 'tail'),\n",
       " (0.04290826852203518, 'breathes'),\n",
       " (0.03728062813024398, 'airborne'),\n",
       " (0.016110569899378556, 'predator'),\n",
       " (0.014976160223167882, 'catsize'),\n",
       " (0.00588164784862127, 'venomous'),\n",
       " (0.0018151455846897057, 'domestic')]"
      ]
     },
     "execution_count": 21,
     "metadata": {},
     "output_type": "execute_result"
    }
   ],
   "source": [
    "importance_ordered = sorted(zip(importances, feature_names), reverse=True)\n",
    "importance_ordered"
   ]
  },
  {
   "cell_type": "code",
   "execution_count": 22,
   "id": "28804165",
   "metadata": {},
   "outputs": [
    {
     "data": {
      "image/png": "[encoded data removed]",
      "text/plain": [
       "<Figure size 640x480 with 1 Axes>"
      ]
     },
     "metadata": {},
     "output_type": "display_data"
    }
   ],
   "source": [
    "# https://scikit-learn.org/stable/auto_examples/ensemble/plot_forest_importances.html\n",
    "std = np.std([tree.feature_importances_ for tree in forest_clf.estimators_], axis=0)\n",
    "forest_importances = pd.Series(importances, index=feature_names)\n",
    "\n",
    "fig, ax = plt.subplots()\n",
    "forest_importances.plot.bar(yerr=std, ax=ax)\n",
    "ax.set_title(\"Feature importances using MDI\")\n",
    "ax.set_ylabel(\"Mean decrease in impurity\")\n",
    "fig.tight_layout()"
   ]
  },
  {
   "cell_type": "markdown",
   "id": "73a5b4e8",
   "metadata": {},
   "source": [
    "Baseado na métrica MDI (Mean Decrease in Impurity) selecionamos os atributos mais importantes"
   ]
  },
  {
   "cell_type": "markdown",
   "id": "757b3c0c",
   "metadata": {},
   "source": [
    "## Novo recorte nos atributos"
   ]
  },
  {
   "cell_type": "markdown",
   "id": "1884b28b",
   "metadata": {},
   "source": [
    "Para descobrir qual o conjunto mínimo de atributos necessários para uma acurácia de 90% ou mais do valor de acurácia do conjunto total, vamos iterar aumentando o número dos atributos mais relevantes a cada ciclo."
   ]
  },
  {
   "cell_type": "code",
   "execution_count": 23,
   "id": "e3448679",
   "metadata": {},
   "outputs": [
    {
     "name": "stdout",
     "output_type": "stream",
     "text": [
      "Conjunto mínimo de atributos: ['feathers', 'legs', 'hair', 'eggs', 'milk', 'backbone', 'fins']\n",
      "Acurácia com este conjunto: 0.863\n"
     ]
    }
   ],
   "source": [
    "for n_features in range(1, X_train.shape[1]):\n",
    "    importance_list = [list(a) for a in importance_ordered]\n",
    "    n_importance_list = []\n",
    "    for i in range(n_features):\n",
    "        n_importance_list.append(importance_list[i][1])\n",
    "        \n",
    "    X_train_importance = X_train[n_importance_list]\n",
    "\n",
    "    forest_clf_importance = RandomForestClassifier(n_estimators=100, random_state=42)\n",
    "    forest_clf_importance.fit(X_train_importance, y_train)  \n",
    "    scores_importance = cross_val_score(\n",
    "        forest_clf_importance,\n",
    "        X_train_importance,\n",
    "        y_train,\n",
    "        cv=cv,\n",
    "        scoring='accuracy',\n",
    "        n_jobs=-1,\n",
    "    )\n",
    "\n",
    "    acc_importance = mean(scores_importance)\n",
    "    if acc_importance >= 0.9 * acc:\n",
    "        break\n",
    "\n",
    "print(\"Conjunto mínimo de atributos:\", n_importance_list)\n",
    "print(\"Acurácia com este conjunto: %.3f\" % (acc_importance))\n"
   ]
  },
  {
   "cell_type": "code",
   "execution_count": 24,
   "id": "b26d833b",
   "metadata": {},
   "outputs": [
    {
     "name": "stdout",
     "output_type": "stream",
     "text": [
      "São necessários no mínimo os 7 atributos mais relevantes para atingir o objetivo\n"
     ]
    }
   ],
   "source": [
    "print(\"São necessários no mínimo os %d atributos mais relevantes para atingir o objetivo\" % n_features)"
   ]
  },
  {
   "cell_type": "markdown",
   "id": "faf7cbfd",
   "metadata": {},
   "source": [
    "## Desempenho"
   ]
  },
  {
   "cell_type": "markdown",
   "id": "f422f170",
   "metadata": {},
   "source": [
    "Mede-se o desempenho final do modelo com base nos dados de teste."
   ]
  },
  {
   "cell_type": "code",
   "execution_count": 25,
   "id": "8d6340b0",
   "metadata": {},
   "outputs": [
    {
     "name": "stdout",
     "output_type": "stream",
     "text": [
      "RMSE = 0.4364357804719847\n",
      "Acurácia na base de teste = 0.9523809523809523\n"
     ]
    }
   ],
   "source": [
    "from sklearn.metrics import mean_squared_error\n",
    "from sklearn.metrics import accuracy_score\n",
    "\n",
    "X_test_importance = X_test[n_importance_list]\n",
    "\n",
    "final_model = forest_clf_importance\n",
    "final_predictions = final_model.predict(X_test_importance)\n",
    "\n",
    "final_mse = mean_squared_error(y_test, final_predictions)\n",
    "final_rmse = np.sqrt(final_mse)\n",
    "final_acc= accuracy_score(y_test, final_predictions)\n",
    "\n",
    "print(f'RMSE = {final_rmse}')\n",
    "print(f'Acurácia na base de teste = {final_acc}')"
   ]
  }
 ],
 "metadata": {
  "kernelspec": {
   "display_name": "Python 3.10.4 64-bit",
   "language": "python",
   "name": "python3"
  },
  "language_info": {
   "codemirror_mode": {
    "name": "ipython",
    "version": 3
   },
   "file_extension": ".py",
   "mimetype": "text/x-python",
   "name": "python",
   "nbconvert_exporter": "python",
   "pygments_lexer": "ipython3",
   "version": "3.11.1"
  },
  "vscode": {
   "interpreter": {
    "hash": "369f2c481f4da34e4445cda3fffd2e751bd1c4d706f27375911949ba6bb62e1c"
   }
  }
 },
 "nbformat": 4,
 "nbformat_minor": 5
}
